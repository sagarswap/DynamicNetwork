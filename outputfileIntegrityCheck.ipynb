{
 "cells": [
  {
   "cell_type": "code",
   "execution_count": 1,
   "metadata": {},
   "outputs": [],
   "source": [
    "import pandas as pd\n",
    "import os"
   ]
  },
  {
   "cell_type": "code",
   "execution_count": 9,
   "metadata": {},
   "outputs": [],
   "source": [
    "output_folder_path = \"../data/output/RealWorld/\"\n",
    "input_folder_path=\"../data/input/RealWorld/\"\n",
    "datasets=['astroPh', 'emailEU', 'facebook', 'facebookMedium', 'facebookArtist', 'gitInteractions', 'hepPh', 'lastfm', 'redditHyperlink', 'twitchDE', 'twitchENGB', 'twitchES', 'twitchFR', 'twitchPTBR', 'twitchRU']\n",
    "contagions=['SimpleContagion', 'ComplexContagion']\n",
    "startRatio=['01', '02', '03', '04', '05']\n"
   ]
  },
  {
   "cell_type": "code",
   "execution_count": 7,
   "metadata": {},
   "outputs": [],
   "source": [
    "def checkCompletion(folder_path):\n",
    "    files=os.listdir(folder_path)\n",
    "\n",
    "    myList=[]\n",
    "    parsererror=[]\n",
    "\n",
    "    for file in files:\n",
    "        with open(os.path.join(folder_path, file), 'r') as f:\n",
    "            #print(file) #To check if a file has extra cols on any given row\n",
    "            try:\n",
    "                content = pd.read_csv(folder_path+\"/\"+file, names=['Epoch', 'Pop', 'Frac', 'DiscEdge'], skiprows=1, sep=\" \")\n",
    "            except Exception as e:\n",
    "                #os.remove(folder_path+\"/\"+file)\n",
    "                print(\"File Exception \", file)\n",
    "                continue\n",
    "            filee=file.split('_')\n",
    "            content=content.drop(['Pop'], axis=1)    \n",
    "\n",
    "            r=filee[1]\n",
    "            if r=='r100':\n",
    "                continue\n",
    "            finalOpinionDensity=content.iloc[-1, 1]\n",
    "            finalDiscordantEdges=content.iloc[-1,2]\n",
    "            if finalDiscordantEdges>100:\n",
    "                myList.append(str(file))\n",
    "\n",
    "    myList=sorted(myList)\n",
    "    for item in myList:\n",
    "        print(item)"
   ]
  },
  {
   "cell_type": "code",
   "execution_count": 12,
   "metadata": {},
   "outputs": [],
   "source": [
    "for dataset in datasets:\n",
    "    for contagion in contagions:\n",
    "        for sRatio in startRatio:\n",
    "            path=output_folder_path+dataset+\"/\"+contagion+\"/\"+sRatio\n",
    "            #print(path)\n",
    "            checkCompletion(path)"
   ]
  }
 ],
 "metadata": {
  "kernelspec": {
   "display_name": "Python 3",
   "language": "python",
   "name": "python3"
  },
  "language_info": {
   "codemirror_mode": {
    "name": "ipython",
    "version": 3
   },
   "file_extension": ".py",
   "mimetype": "text/x-python",
   "name": "python",
   "nbconvert_exporter": "python",
   "pygments_lexer": "ipython3",
   "version": "3.10.12"
  }
 },
 "nbformat": 4,
 "nbformat_minor": 2
}
